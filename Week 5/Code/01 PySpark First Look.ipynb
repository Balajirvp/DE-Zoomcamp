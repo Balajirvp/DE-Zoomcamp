{
 "cells": [
  {
   "cell_type": "markdown",
   "id": "b0a590eb",
   "metadata": {},
   "source": [
    "## SECTION I\n",
    "\n",
    "Starting a Spark session \\\n",
    "Reading a file with Spark "
   ]
  },
  {
   "cell_type": "code",
   "execution_count": 1,
   "id": "ef576244",
   "metadata": {},
   "outputs": [],
   "source": [
    "# conda install pyspark\n",
    "# conda install pyarrow\n",
    "# conda install -c conda-forge fastparquet"
   ]
  },
  {
   "cell_type": "code",
   "execution_count": 2,
   "id": "3a3053ef",
   "metadata": {
    "scrolled": true
   },
   "outputs": [],
   "source": [
    "import pyspark\n",
    "from pyspark.sql import SparkSession\n",
    "import warnings\n",
    "warnings.filterwarnings('ignore')"
   ]
  },
  {
   "cell_type": "code",
   "execution_count": 3,
   "id": "7a9e4a83",
   "metadata": {},
   "outputs": [],
   "source": [
    "spark = SparkSession.builder \\\n",
    "    .master(\"local[*]\") \\\n",
    "    .appName('test') \\\n",
    "    .getOrCreate()"
   ]
  },
  {
   "cell_type": "code",
   "execution_count": 4,
   "id": "2d153440",
   "metadata": {
    "scrolled": false
   },
   "outputs": [],
   "source": [
    "# !curl -o fhvhv_tripdata_2021-01.parquet https://d37ci6vzurychx.cloudfront.net/trip-data/fhvhv_tripdata_2021-01.parquet\n",
    "\n",
    "# Even though I was able to download the parquet file, I was not able to read it due to some attribute error. \n",
    "# So ended up taking the csv file from - https://github.com/DataTalksClub/nyc-tlc-data/releases/tag/fhvhv\n",
    "# And then ran the following codes"
   ]
  },
  {
   "cell_type": "code",
   "execution_count": 5,
   "id": "2c533a23",
   "metadata": {},
   "outputs": [
    {
     "name": "stdout",
     "output_type": "stream",
     "text": [
      "11908469 fhvhv_tripdata_2021-01.csv\n"
     ]
    },
    {
     "name": "stderr",
     "output_type": "stream",
     "text": [
      "find: '/I': No such file or directory\n",
      "find: '/N': No such file or directory\n",
      "find: 'SoundMixer.exe': No such file or directory\n"
     ]
    }
   ],
   "source": [
    "!wc -l fhvhv_tripdata_2021-01.csv"
   ]
  },
  {
   "cell_type": "code",
   "execution_count": 6,
   "id": "74b90996",
   "metadata": {},
   "outputs": [],
   "source": [
    "df = spark.read \\\n",
    "    .option(\"header\", \"true\") \\\n",
    "    .csv('fhvhv_tripdata_2021-01.csv')"
   ]
  },
  {
   "cell_type": "code",
   "execution_count": 7,
   "id": "0eb3e82f",
   "metadata": {},
   "outputs": [
    {
     "data": {
      "text/plain": [
       "[Row(hvfhs_license_num='HV0003', dispatching_base_num='B02682', pickup_datetime='2021-01-01 00:33:44', dropoff_datetime='2021-01-01 00:49:07', PULocationID='230', DOLocationID='166', SR_Flag=None),\n",
       " Row(hvfhs_license_num='HV0003', dispatching_base_num='B02682', pickup_datetime='2021-01-01 00:55:19', dropoff_datetime='2021-01-01 01:18:21', PULocationID='152', DOLocationID='167', SR_Flag=None),\n",
       " Row(hvfhs_license_num='HV0003', dispatching_base_num='B02764', pickup_datetime='2021-01-01 00:23:56', dropoff_datetime='2021-01-01 00:38:05', PULocationID='233', DOLocationID='142', SR_Flag=None),\n",
       " Row(hvfhs_license_num='HV0003', dispatching_base_num='B02764', pickup_datetime='2021-01-01 00:42:51', dropoff_datetime='2021-01-01 00:45:50', PULocationID='142', DOLocationID='143', SR_Flag=None),\n",
       " Row(hvfhs_license_num='HV0003', dispatching_base_num='B02764', pickup_datetime='2021-01-01 00:48:14', dropoff_datetime='2021-01-01 01:08:42', PULocationID='143', DOLocationID='78', SR_Flag=None)]"
      ]
     },
     "execution_count": 7,
     "metadata": {},
     "output_type": "execute_result"
    }
   ],
   "source": [
    "df.head(5)"
   ]
  },
  {
   "cell_type": "code",
   "execution_count": 8,
   "id": "19949ff8",
   "metadata": {},
   "outputs": [
    {
     "data": {
      "text/plain": [
       "StructType(List(StructField(hvfhs_license_num,StringType,true),StructField(dispatching_base_num,StringType,true),StructField(pickup_datetime,StringType,true),StructField(dropoff_datetime,StringType,true),StructField(PULocationID,StringType,true),StructField(DOLocationID,StringType,true),StructField(SR_Flag,StringType,true)))"
      ]
     },
     "execution_count": 8,
     "metadata": {},
     "output_type": "execute_result"
    }
   ],
   "source": [
    "df.schema"
   ]
  },
  {
   "cell_type": "code",
   "execution_count": 9,
   "id": "62cb0255",
   "metadata": {},
   "outputs": [
    {
     "name": "stderr",
     "output_type": "stream",
     "text": [
      "find: '/I': No such file or directory\n",
      "find: '/N': No such file or directory\n",
      "find: 'SoundMixer.exe': No such file or directory\n"
     ]
    }
   ],
   "source": [
    "!head -n 1001 fhvhv_tripdata_2021-01.csv > head.csv"
   ]
  },
  {
   "cell_type": "code",
   "execution_count": 10,
   "id": "9711a2ab",
   "metadata": {},
   "outputs": [],
   "source": [
    "import pandas as pd"
   ]
  },
  {
   "cell_type": "code",
   "execution_count": 11,
   "id": "be360709",
   "metadata": {},
   "outputs": [],
   "source": [
    "df_pandas = pd.read_csv('head.csv')"
   ]
  },
  {
   "cell_type": "code",
   "execution_count": 12,
   "id": "4052db6b",
   "metadata": {},
   "outputs": [
    {
     "data": {
      "text/plain": [
       "hvfhs_license_num        object\n",
       "dispatching_base_num     object\n",
       "pickup_datetime          object\n",
       "dropoff_datetime         object\n",
       "PULocationID              int64\n",
       "DOLocationID              int64\n",
       "SR_Flag                 float64\n",
       "dtype: object"
      ]
     },
     "execution_count": 12,
     "metadata": {},
     "output_type": "execute_result"
    }
   ],
   "source": [
    "df_pandas.dtypes"
   ]
  },
  {
   "cell_type": "code",
   "execution_count": 13,
   "id": "cf941ba0",
   "metadata": {},
   "outputs": [
    {
     "data": {
      "text/plain": [
       "StructType(List(StructField(hvfhs_license_num,StringType,true),StructField(dispatching_base_num,StringType,true),StructField(pickup_datetime,StringType,true),StructField(dropoff_datetime,StringType,true),StructField(PULocationID,LongType,true),StructField(DOLocationID,LongType,true),StructField(SR_Flag,DoubleType,true)))"
      ]
     },
     "execution_count": 13,
     "metadata": {},
     "output_type": "execute_result"
    }
   ],
   "source": [
    "spark.createDataFrame(df_pandas).schema"
   ]
  },
  {
   "cell_type": "code",
   "execution_count": 14,
   "id": "85292442",
   "metadata": {},
   "outputs": [],
   "source": [
    "# Or To directly infer the schema (instead of converting it into a pandas df and then get the schema)\n",
    "\n",
    "# df = spark.read \\\n",
    "#     .option(\"header\", \"true\") \\\n",
    "#     .option(\"inferSchema\", \"true\") \\\n",
    "#     .csv('fhvhv_tripdata_2021-01.csv')\n",
    "\n",
    "# df.printSchema()"
   ]
  },
  {
   "cell_type": "markdown",
   "id": "0b1f6dd3",
   "metadata": {},
   "source": [
    "## SECTION II\n",
    "\n",
    "Enforcing a custom schema"
   ]
  },
  {
   "cell_type": "code",
   "execution_count": 15,
   "id": "655b4688",
   "metadata": {},
   "outputs": [],
   "source": [
    "from pyspark.sql import types"
   ]
  },
  {
   "cell_type": "code",
   "execution_count": 16,
   "id": "d00e9d93",
   "metadata": {},
   "outputs": [],
   "source": [
    "schema = types.StructType([\n",
    "    types.StructField('hvfhs_license_num', types.StringType(), True),\n",
    "    types.StructField('dispatching_base_num', types.StringType(), True),\n",
    "    types.StructField('pickup_datetime', types.TimestampType(), True),\n",
    "    types.StructField('dropoff_datetime', types.TimestampType(), True),\n",
    "    types.StructField('PULocationID', types.IntegerType(), True),\n",
    "    types.StructField('DOLocationID', types.IntegerType(), True),\n",
    "    types.StructField('SR_Flag', types.StringType(), True)\n",
    "])"
   ]
  },
  {
   "cell_type": "code",
   "execution_count": 17,
   "id": "36103afd",
   "metadata": {},
   "outputs": [],
   "source": [
    "df = spark.read \\\n",
    "    .option(\"header\", \"true\") \\\n",
    "    .schema(schema) \\\n",
    "    .csv('fhvhv_tripdata_2021-01.csv')"
   ]
  },
  {
   "cell_type": "code",
   "execution_count": 18,
   "id": "772973e4",
   "metadata": {},
   "outputs": [
    {
     "data": {
      "text/plain": [
       "[Row(hvfhs_license_num='HV0003', dispatching_base_num='B02682', pickup_datetime=datetime.datetime(2021, 1, 1, 0, 33, 44), dropoff_datetime=datetime.datetime(2021, 1, 1, 0, 49, 7), PULocationID=230, DOLocationID=166, SR_Flag=None),\n",
       " Row(hvfhs_license_num='HV0003', dispatching_base_num='B02682', pickup_datetime=datetime.datetime(2021, 1, 1, 0, 55, 19), dropoff_datetime=datetime.datetime(2021, 1, 1, 1, 18, 21), PULocationID=152, DOLocationID=167, SR_Flag=None),\n",
       " Row(hvfhs_license_num='HV0003', dispatching_base_num='B02764', pickup_datetime=datetime.datetime(2021, 1, 1, 0, 23, 56), dropoff_datetime=datetime.datetime(2021, 1, 1, 0, 38, 5), PULocationID=233, DOLocationID=142, SR_Flag=None),\n",
       " Row(hvfhs_license_num='HV0003', dispatching_base_num='B02764', pickup_datetime=datetime.datetime(2021, 1, 1, 0, 42, 51), dropoff_datetime=datetime.datetime(2021, 1, 1, 0, 45, 50), PULocationID=142, DOLocationID=143, SR_Flag=None),\n",
       " Row(hvfhs_license_num='HV0003', dispatching_base_num='B02764', pickup_datetime=datetime.datetime(2021, 1, 1, 0, 48, 14), dropoff_datetime=datetime.datetime(2021, 1, 1, 1, 8, 42), PULocationID=143, DOLocationID=78, SR_Flag=None)]"
      ]
     },
     "execution_count": 18,
     "metadata": {},
     "output_type": "execute_result"
    }
   ],
   "source": [
    "df.head(5)"
   ]
  },
  {
   "cell_type": "markdown",
   "id": "e63b845f",
   "metadata": {},
   "source": [
    "## SECTION III\n",
    "\n",
    "Converting the single csv file into multiple Parquet files to enable all the spark clusters "
   ]
  },
  {
   "cell_type": "code",
   "execution_count": 19,
   "id": "7607c728",
   "metadata": {},
   "outputs": [],
   "source": [
    "df = df.repartition(24)"
   ]
  },
  {
   "cell_type": "code",
   "execution_count": 20,
   "id": "6bacccbc",
   "metadata": {},
   "outputs": [],
   "source": [
    "# Had to download all the hadoop files from https://github.com/cdarlint/winutils/tree/master/hadoop-2.7.2/bin\n",
    "# And replace the initially used hadoop files for this to work\n",
    "\n",
    "df.write.parquet('fhvhv/2021/01/',  mode='overwrite')"
   ]
  },
  {
   "attachments": {
    "image.png": {
     "image/png": "[encoded data removed]"
    }
   },
   "cell_type": "markdown",
   "id": "fddb2d07",
   "metadata": {},
   "source": [
    "![image.png](attachment:image.png)"
   ]
  },
  {
   "cell_type": "markdown",
   "id": "66526b1f",
   "metadata": {},
   "source": [
    "## SECTION IV\n",
    "\n",
    "Creating Spark dataframes\\\n",
    "Using select command from spark"
   ]
  },
  {
   "cell_type": "code",
   "execution_count": 21,
   "id": "96b74e5b",
   "metadata": {},
   "outputs": [],
   "source": [
    "df = spark.read.parquet('fhvhv/2021/01/')"
   ]
  },
  {
   "cell_type": "code",
   "execution_count": 22,
   "id": "6c8ebbc1",
   "metadata": {},
   "outputs": [
    {
     "name": "stdout",
     "output_type": "stream",
     "text": [
      "root\n",
      " |-- hvfhs_license_num: string (nullable = true)\n",
      " |-- dispatching_base_num: string (nullable = true)\n",
      " |-- pickup_datetime: timestamp (nullable = true)\n",
      " |-- dropoff_datetime: timestamp (nullable = true)\n",
      " |-- PULocationID: integer (nullable = true)\n",
      " |-- DOLocationID: integer (nullable = true)\n",
      " |-- SR_Flag: string (nullable = true)\n",
      "\n"
     ]
    }
   ],
   "source": [
    "df.printSchema()"
   ]
  },
  {
   "cell_type": "code",
   "execution_count": 23,
   "id": "00e33c3d",
   "metadata": {},
   "outputs": [
    {
     "data": {
      "text/plain": [
       "DataFrame[pickup_datetime: timestamp, dropoff_datetime: timestamp, PULocationID: int, DOLocationID: int]"
      ]
     },
     "execution_count": 23,
     "metadata": {},
     "output_type": "execute_result"
    }
   ],
   "source": [
    "df.select('pickup_datetime', 'dropoff_datetime', 'PULocationID' , 'DOLocationID')"
   ]
  },
  {
   "cell_type": "code",
   "execution_count": 24,
   "id": "448f9c1a",
   "metadata": {},
   "outputs": [
    {
     "data": {
      "text/plain": [
       "DataFrame[pickup_datetime: timestamp, dropoff_datetime: timestamp, PULocationID: int, DOLocationID: int]"
      ]
     },
     "execution_count": 24,
     "metadata": {},
     "output_type": "execute_result"
    }
   ],
   "source": [
    "df.select('pickup_datetime', 'dropoff_datetime', 'PULocationID', 'DOLocationID').filter(df.hvfhs_license_num == 'HV0003')"
   ]
  },
  {
   "cell_type": "markdown",
   "id": "d1c03c6c",
   "metadata": {},
   "source": [
    "## SECTION V\n",
    "\n",
    "Functions and User Defined Functions (UDFs)"
   ]
  },
  {
   "cell_type": "code",
   "execution_count": 25,
   "id": "191b57d4",
   "metadata": {},
   "outputs": [],
   "source": [
    "from pyspark.sql import functions as F"
   ]
  },
  {
   "cell_type": "code",
   "execution_count": 26,
   "id": "e087e665",
   "metadata": {},
   "outputs": [
    {
     "name": "stdout",
     "output_type": "stream",
     "text": [
      "+-----------+------------+------------+------------+\n",
      "|pickup_date|dropoff_date|PULocationID|DOLocationID|\n",
      "+-----------+------------+------------+------------+\n",
      "| 2021-01-04|  2021-01-04|         152|         193|\n",
      "| 2021-01-03|  2021-01-03|         208|         213|\n",
      "| 2021-01-04|  2021-01-04|         145|         202|\n",
      "| 2021-01-02|  2021-01-02|          78|         169|\n",
      "| 2021-01-02|  2021-01-02|          17|          73|\n",
      "| 2021-01-01|  2021-01-01|         181|         107|\n",
      "| 2021-01-02|  2021-01-02|         188|          72|\n",
      "| 2021-01-01|  2021-01-01|          61|           4|\n",
      "| 2021-01-03|  2021-01-03|         257|          54|\n",
      "| 2021-01-04|  2021-01-04|          75|          75|\n",
      "| 2021-01-01|  2021-01-02|         147|         175|\n",
      "| 2021-01-05|  2021-01-05|          81|          81|\n",
      "| 2021-01-01|  2021-01-01|          60|          60|\n",
      "| 2021-01-04|  2021-01-04|         159|         212|\n",
      "| 2021-01-01|  2021-01-01|         237|         151|\n",
      "| 2021-01-03|  2021-01-03|         155|          39|\n",
      "| 2021-01-04|  2021-01-04|          91|         155|\n",
      "| 2021-01-03|  2021-01-03|          17|          89|\n",
      "| 2021-01-01|  2021-01-01|           4|          36|\n",
      "| 2021-01-05|  2021-01-05|          39|          35|\n",
      "+-----------+------------+------------+------------+\n",
      "only showing top 20 rows\n",
      "\n"
     ]
    }
   ],
   "source": [
    "# Existing functions: Showing example - F.to_date()\n",
    "\n",
    "df.withColumn('pickup_date', F.to_date(df.pickup_datetime)) \\\n",
    "  .withColumn('dropoff_date', F.to_date(df.dropoff_datetime)) \\\n",
    "  .select('pickup_date', 'dropoff_date', 'PULocationID', 'DOLocationID') \\\n",
    "  .show()"
   ]
  },
  {
   "cell_type": "code",
   "execution_count": 27,
   "id": "7522a740",
   "metadata": {},
   "outputs": [],
   "source": [
    "# User defined functions\n",
    "\n",
    "def crazy_stuff(base_num):\n",
    "    num = int(base_num[1:])\n",
    "    if num % 7 == 0:\n",
    "        return f's/{num:03x}'\n",
    "    elif num % 3 == 0:\n",
    "        return f'a/{num:03x}'\n",
    "    else:\n",
    "        return f'e/{num:03x}'"
   ]
  },
  {
   "cell_type": "code",
   "execution_count": 28,
   "id": "1bdf458f",
   "metadata": {},
   "outputs": [
    {
     "data": {
      "text/plain": [
       "'s/b44'"
      ]
     },
     "execution_count": 28,
     "metadata": {},
     "output_type": "execute_result"
    }
   ],
   "source": [
    "crazy_stuff('B02884')"
   ]
  },
  {
   "cell_type": "code",
   "execution_count": 29,
   "id": "72b74938",
   "metadata": {},
   "outputs": [],
   "source": [
    "# Creating a udf\n",
    "\n",
    "crazy_stuff_udf = F.udf(crazy_stuff, returnType = types.StringType())"
   ]
  },
  {
   "cell_type": "code",
   "execution_count": 30,
   "id": "0310ac5f",
   "metadata": {},
   "outputs": [
    {
     "name": "stdout",
     "output_type": "stream",
     "text": [
      "+-------+-----------+------------+------------+------------+\n",
      "|base_id|pickup_date|dropoff_date|PULocationID|DOLocationID|\n",
      "+-------+-----------+------------+------------+------------+\n",
      "|  e/b3b| 2021-01-04|  2021-01-04|         152|         193|\n",
      "|  e/b14| 2021-01-03|  2021-01-03|         208|         213|\n",
      "|  e/b30| 2021-01-04|  2021-01-04|         145|         202|\n",
      "|  e/95b| 2021-01-02|  2021-01-02|          78|         169|\n",
      "|  e/9ce| 2021-01-02|  2021-01-02|          17|          73|\n",
      "|  e/a39| 2021-01-01|  2021-01-01|         181|         107|\n",
      "|  e/b38| 2021-01-02|  2021-01-02|         188|          72|\n",
      "|  s/b13| 2021-01-01|  2021-01-01|          61|           4|\n",
      "|  a/b49| 2021-01-03|  2021-01-03|         257|          54|\n",
      "|  e/b47| 2021-01-04|  2021-01-04|          75|          75|\n",
      "|  e/b35| 2021-01-01|  2021-01-02|         147|         175|\n",
      "|  e/b32| 2021-01-05|  2021-01-05|          81|          81|\n",
      "|  e/b42| 2021-01-01|  2021-01-01|          60|          60|\n",
      "|  e/b48| 2021-01-04|  2021-01-04|         159|         212|\n",
      "|  e/b3c| 2021-01-01|  2021-01-01|         237|         151|\n",
      "|  e/9ce| 2021-01-03|  2021-01-03|         155|          39|\n",
      "|  e/9ce| 2021-01-04|  2021-01-04|          91|         155|\n",
      "|  e/b3b| 2021-01-03|  2021-01-03|          17|          89|\n",
      "|  e/9ce| 2021-01-01|  2021-01-01|           4|          36|\n",
      "|  e/a39| 2021-01-05|  2021-01-05|          39|          35|\n",
      "+-------+-----------+------------+------------+------------+\n",
      "only showing top 20 rows\n",
      "\n"
     ]
    }
   ],
   "source": [
    "df.withColumn('pickup_date', F.to_date(df.pickup_datetime)) \\\n",
    "  .withColumn('dropoff_date', F.to_date(df.dropoff_datetime)) \\\n",
    "  .withColumn('base_id', crazy_stuff_udf(df.dispatching_base_num)) \\\n",
    "  .select('base_id', 'pickup_date', 'dropoff_date', 'PULocationID', 'DOLocationID') \\\n",
    "  .show()"
   ]
  }
 ],
 "metadata": {
  "kernelspec": {
   "display_name": "Python 3 (ipykernel)",
   "language": "python",
   "name": "python3"
  },
  "language_info": {
   "codemirror_mode": {
    "name": "ipython",
    "version": 3
   },
   "file_extension": ".py",
   "mimetype": "text/x-python",
   "name": "python",
   "nbconvert_exporter": "python",
   "pygments_lexer": "ipython3",
   "version": "3.9.15"
  }
 },
 "nbformat": 4,
 "nbformat_minor": 5
}
